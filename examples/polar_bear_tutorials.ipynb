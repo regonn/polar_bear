{
  "nbformat": 4,
  "nbformat_minor": 0,
  "metadata": {
    "colab": {
      "name": "polar_bear_tutorials.ipynb",
      "version": "0.3.2",
      "provenance": [],
      "include_colab_link": true
    },
    "kernelspec": {
      "name": "python3",
      "display_name": "Python 3"
    }
  },
  "cells": [
    {
      "cell_type": "markdown",
      "metadata": {
        "id": "view-in-github",
        "colab_type": "text"
      },
      "source": [
        "<a href=\"https://colab.research.google.com/github/regonn/polar_bear/blob/master/examples/polar_bear_tutorials.ipynb\" target=\"_parent\"><img src=\"https://colab.research.google.com/assets/colab-badge.svg\" alt=\"Open In Colab\"/></a>"
      ]
    },
    {
      "metadata": {
        "id": "KrwwkJbWw0pF",
        "colab_type": "code",
        "colab": {
          "base_uri": "https://localhost:8080/",
          "height": 105
        },
        "outputId": "6599661b-d63f-4b7e-c577-cc0e85ca85a4"
      },
      "cell_type": "code",
      "source": [
        "!git clone https://github.com/agconti/kaggle-titanic.git"
      ],
      "execution_count": 4,
      "outputs": [
        {
          "output_type": "stream",
          "text": [
            "Cloning into 'kaggle-titanic'...\n",
            "remote: Enumerating objects: 472, done.\u001b[K\n",
            "remote: Total 472 (delta 0), reused 0 (delta 0), pack-reused 472\u001b[K\n",
            "Receiving objects: 100% (472/472), 7.61 MiB | 35.60 MiB/s, done.\n",
            "Resolving deltas: 100% (216/216), done.\n"
          ],
          "name": "stdout"
        }
      ]
    },
    {
      "metadata": {
        "id": "hahkFqCPw6Vd",
        "colab_type": "code",
        "colab": {
          "base_uri": "https://localhost:8080/",
          "height": 175
        },
        "outputId": "a043d5ca-9434-4355-83d2-3c98a0f57200"
      },
      "cell_type": "code",
      "source": [
        "!pip install polar_bear"
      ],
      "execution_count": 2,
      "outputs": [
        {
          "output_type": "stream",
          "text": [
            "Collecting polar_bear\n",
            "  Downloading https://files.pythonhosted.org/packages/a9/70/83ccb916d1f891ebe284118ee95c31893981bf368a7f1fedf64b4bbadf5d/polar_bear-0.0.4-py2.py3-none-any.whl\n",
            "Requirement already satisfied: pandas in /usr/local/lib/python3.6/dist-packages (from polar_bear) (0.22.0)\n",
            "Requirement already satisfied: numpy in /usr/local/lib/python3.6/dist-packages (from polar_bear) (1.14.6)\n",
            "Requirement already satisfied: python-dateutil>=2 in /usr/local/lib/python3.6/dist-packages (from pandas->polar_bear) (2.5.3)\n",
            "Requirement already satisfied: pytz>=2011k in /usr/local/lib/python3.6/dist-packages (from pandas->polar_bear) (2018.9)\n",
            "Requirement already satisfied: six>=1.5 in /usr/local/lib/python3.6/dist-packages (from python-dateutil>=2->pandas->polar_bear) (1.11.0)\n",
            "Installing collected packages: polar-bear\n",
            "Successfully installed polar-bear-0.0.4\n"
          ],
          "name": "stdout"
        }
      ]
    },
    {
      "metadata": {
        "id": "TsiLffljxAiE",
        "colab_type": "code",
        "colab": {}
      },
      "cell_type": "code",
      "source": [
        "import numpy as np\n",
        "import pandas as pd\n",
        "import polar_bear as pb\n",
        "import lightgbm as lgb\n",
        "from pathlib import Path\n",
        "from sklearn.model_selection import train_test_split\n",
        "from sklearn.metrics import accuracy_score"
      ],
      "execution_count": 0,
      "outputs": []
    },
    {
      "metadata": {
        "id": "4odaik9LxEJb",
        "colab_type": "code",
        "colab": {}
      },
      "cell_type": "code",
      "source": [
        "root = Path(\"./kaggle-titanic/data/\")\n",
        "train_df = pd.read_csv(root/\"train.csv\")\n",
        "test_df = pd.read_csv(root/\"test.csv\")"
      ],
      "execution_count": 0,
      "outputs": []
    },
    {
      "metadata": {
        "id": "jtp0eN5Mx83E",
        "colab_type": "code",
        "colab": {}
      },
      "cell_type": "code",
      "source": [
        "cleaned_train_df, target_df, cleaned_test_df = pb.clean(train_df, test_df, 'Survived', 0.05)"
      ],
      "execution_count": 0,
      "outputs": []
    },
    {
      "metadata": {
        "id": "H3TY0xvyyAV0",
        "colab_type": "code",
        "colab": {
          "base_uri": "https://localhost:8080/",
          "height": 244
        },
        "outputId": "80824b1a-2fa4-4d68-f25e-9a76252eded2"
      },
      "cell_type": "code",
      "source": [
        "cleaned_train_df.head()"
      ],
      "execution_count": 8,
      "outputs": [
        {
          "output_type": "execute_result",
          "data": {
            "text/html": [
              "<div>\n",
              "<style scoped>\n",
              "    .dataframe tbody tr th:only-of-type {\n",
              "        vertical-align: middle;\n",
              "    }\n",
              "\n",
              "    .dataframe tbody tr th {\n",
              "        vertical-align: top;\n",
              "    }\n",
              "\n",
              "    .dataframe thead th {\n",
              "        text-align: right;\n",
              "    }\n",
              "</style>\n",
              "<table border=\"1\" class=\"dataframe\">\n",
              "  <thead>\n",
              "    <tr style=\"text-align: right;\">\n",
              "      <th></th>\n",
              "      <th>x1:Pclass_1</th>\n",
              "      <th>x2:Pclass_2</th>\n",
              "      <th>x3:Pclass_3</th>\n",
              "      <th>x4:Sex_female</th>\n",
              "      <th>x5:Sex_male</th>\n",
              "      <th>x6:Age_float</th>\n",
              "      <th>x7:SibSp_0</th>\n",
              "      <th>x8:SibSp_1</th>\n",
              "      <th>x9:SibSp_2</th>\n",
              "      <th>x10:SibSp_3</th>\n",
              "      <th>...</th>\n",
              "      <th>x16:Parch_2</th>\n",
              "      <th>x17:Parch_3</th>\n",
              "      <th>x18:Parch_4</th>\n",
              "      <th>x19:Parch_5</th>\n",
              "      <th>x20:Parch_6</th>\n",
              "      <th>x21:Parch_9</th>\n",
              "      <th>x22:Fare_float</th>\n",
              "      <th>x23:Embarked_C</th>\n",
              "      <th>x24:Embarked_Q</th>\n",
              "      <th>x25:Embarked_S</th>\n",
              "    </tr>\n",
              "  </thead>\n",
              "  <tbody>\n",
              "    <tr>\n",
              "      <th>0</th>\n",
              "      <td>0</td>\n",
              "      <td>0</td>\n",
              "      <td>1</td>\n",
              "      <td>0</td>\n",
              "      <td>1</td>\n",
              "      <td>22.0</td>\n",
              "      <td>0</td>\n",
              "      <td>1</td>\n",
              "      <td>0</td>\n",
              "      <td>0</td>\n",
              "      <td>...</td>\n",
              "      <td>0</td>\n",
              "      <td>0</td>\n",
              "      <td>0</td>\n",
              "      <td>0</td>\n",
              "      <td>0</td>\n",
              "      <td>0</td>\n",
              "      <td>7.2500</td>\n",
              "      <td>0</td>\n",
              "      <td>0</td>\n",
              "      <td>1</td>\n",
              "    </tr>\n",
              "    <tr>\n",
              "      <th>1</th>\n",
              "      <td>1</td>\n",
              "      <td>0</td>\n",
              "      <td>0</td>\n",
              "      <td>1</td>\n",
              "      <td>0</td>\n",
              "      <td>38.0</td>\n",
              "      <td>0</td>\n",
              "      <td>1</td>\n",
              "      <td>0</td>\n",
              "      <td>0</td>\n",
              "      <td>...</td>\n",
              "      <td>0</td>\n",
              "      <td>0</td>\n",
              "      <td>0</td>\n",
              "      <td>0</td>\n",
              "      <td>0</td>\n",
              "      <td>0</td>\n",
              "      <td>71.2833</td>\n",
              "      <td>1</td>\n",
              "      <td>0</td>\n",
              "      <td>0</td>\n",
              "    </tr>\n",
              "    <tr>\n",
              "      <th>2</th>\n",
              "      <td>0</td>\n",
              "      <td>0</td>\n",
              "      <td>1</td>\n",
              "      <td>1</td>\n",
              "      <td>0</td>\n",
              "      <td>26.0</td>\n",
              "      <td>1</td>\n",
              "      <td>0</td>\n",
              "      <td>0</td>\n",
              "      <td>0</td>\n",
              "      <td>...</td>\n",
              "      <td>0</td>\n",
              "      <td>0</td>\n",
              "      <td>0</td>\n",
              "      <td>0</td>\n",
              "      <td>0</td>\n",
              "      <td>0</td>\n",
              "      <td>7.9250</td>\n",
              "      <td>0</td>\n",
              "      <td>0</td>\n",
              "      <td>1</td>\n",
              "    </tr>\n",
              "    <tr>\n",
              "      <th>3</th>\n",
              "      <td>1</td>\n",
              "      <td>0</td>\n",
              "      <td>0</td>\n",
              "      <td>1</td>\n",
              "      <td>0</td>\n",
              "      <td>35.0</td>\n",
              "      <td>0</td>\n",
              "      <td>1</td>\n",
              "      <td>0</td>\n",
              "      <td>0</td>\n",
              "      <td>...</td>\n",
              "      <td>0</td>\n",
              "      <td>0</td>\n",
              "      <td>0</td>\n",
              "      <td>0</td>\n",
              "      <td>0</td>\n",
              "      <td>0</td>\n",
              "      <td>53.1000</td>\n",
              "      <td>0</td>\n",
              "      <td>0</td>\n",
              "      <td>1</td>\n",
              "    </tr>\n",
              "    <tr>\n",
              "      <th>4</th>\n",
              "      <td>0</td>\n",
              "      <td>0</td>\n",
              "      <td>1</td>\n",
              "      <td>0</td>\n",
              "      <td>1</td>\n",
              "      <td>35.0</td>\n",
              "      <td>1</td>\n",
              "      <td>0</td>\n",
              "      <td>0</td>\n",
              "      <td>0</td>\n",
              "      <td>...</td>\n",
              "      <td>0</td>\n",
              "      <td>0</td>\n",
              "      <td>0</td>\n",
              "      <td>0</td>\n",
              "      <td>0</td>\n",
              "      <td>0</td>\n",
              "      <td>8.0500</td>\n",
              "      <td>0</td>\n",
              "      <td>0</td>\n",
              "      <td>1</td>\n",
              "    </tr>\n",
              "  </tbody>\n",
              "</table>\n",
              "<p>5 rows × 25 columns</p>\n",
              "</div>"
            ],
            "text/plain": [
              "   x1:Pclass_1  x2:Pclass_2  x3:Pclass_3  x4:Sex_female  x5:Sex_male  \\\n",
              "0            0            0            1              0            1   \n",
              "1            1            0            0              1            0   \n",
              "2            0            0            1              1            0   \n",
              "3            1            0            0              1            0   \n",
              "4            0            0            1              0            1   \n",
              "\n",
              "   x6:Age_float  x7:SibSp_0  x8:SibSp_1  x9:SibSp_2  x10:SibSp_3  \\\n",
              "0          22.0           0           1           0            0   \n",
              "1          38.0           0           1           0            0   \n",
              "2          26.0           1           0           0            0   \n",
              "3          35.0           0           1           0            0   \n",
              "4          35.0           1           0           0            0   \n",
              "\n",
              "        ...        x16:Parch_2  x17:Parch_3  x18:Parch_4  x19:Parch_5  \\\n",
              "0       ...                  0            0            0            0   \n",
              "1       ...                  0            0            0            0   \n",
              "2       ...                  0            0            0            0   \n",
              "3       ...                  0            0            0            0   \n",
              "4       ...                  0            0            0            0   \n",
              "\n",
              "   x20:Parch_6  x21:Parch_9  x22:Fare_float  x23:Embarked_C  x24:Embarked_Q  \\\n",
              "0            0            0          7.2500               0               0   \n",
              "1            0            0         71.2833               1               0   \n",
              "2            0            0          7.9250               0               0   \n",
              "3            0            0         53.1000               0               0   \n",
              "4            0            0          8.0500               0               0   \n",
              "\n",
              "   x25:Embarked_S  \n",
              "0               1  \n",
              "1               0  \n",
              "2               1  \n",
              "3               1  \n",
              "4               1  \n",
              "\n",
              "[5 rows x 25 columns]"
            ]
          },
          "metadata": {
            "tags": []
          },
          "execution_count": 8
        }
      ]
    },
    {
      "metadata": {
        "id": "l3PW0GjByCBk",
        "colab_type": "code",
        "colab": {}
      },
      "cell_type": "code",
      "source": [
        "\n",
        "X_train, X_test, y_train, y_test = train_test_split(cleaned_train_df.values, target_df[\"y1:Survived\"].values, test_size=0.2, random_state=0)\n",
        "lgb_train = lgb.Dataset(X_train, y_train)\n",
        "lgb_eval = lgb.Dataset(X_test, y_test, reference=lgb_train)"
      ],
      "execution_count": 0,
      "outputs": []
    },
    {
      "metadata": {
        "id": "WQdUWd1myGKD",
        "colab_type": "code",
        "colab": {}
      },
      "cell_type": "code",
      "source": [
        "params = {\n",
        "        'task': 'train',\n",
        "        'boosting_type': 'gbdt',\n",
        "        'objective': 'binary',\n",
        "        'metric': {'binary', 'binary_error', 'auc'},\n",
        "        'seed': 42,\n",
        "}"
      ],
      "execution_count": 0,
      "outputs": []
    },
    {
      "metadata": {
        "id": "LW1cDRoDyUQM",
        "colab_type": "code",
        "colab": {
          "base_uri": "https://localhost:8080/",
          "height": 404
        },
        "outputId": "1f71c862-e961-481d-e93f-1af3aabe5d9c"
      },
      "cell_type": "code",
      "source": [
        "gbm = lgb.train(params, lgb_train, valid_sets=lgb_eval,\n",
        "                early_stopping_rounds=10,\n",
        "                feature_name=[col.split(\":\")[1] for col in cleaned_train_df.columns])"
      ],
      "execution_count": 13,
      "outputs": [
        {
          "output_type": "stream",
          "text": [
            "[1]\tvalid_0's binary_error: 0.385475\tvalid_0's auc: 0.866996\tvalid_0's binary_logloss: 0.624886\n",
            "Training until validation scores don't improve for 10 rounds.\n",
            "[2]\tvalid_0's binary_error: 0.324022\tvalid_0's auc: 0.868841\tvalid_0's binary_logloss: 0.591138\n",
            "[3]\tvalid_0's binary_error: 0.184358\tvalid_0's auc: 0.885903\tvalid_0's binary_logloss: 0.558999\n",
            "[4]\tvalid_0's binary_error: 0.189944\tvalid_0's auc: 0.886957\tvalid_0's binary_logloss: 0.535888\n",
            "[5]\tvalid_0's binary_error: 0.189944\tvalid_0's auc: 0.88834\tvalid_0's binary_logloss: 0.516576\n",
            "[6]\tvalid_0's binary_error: 0.184358\tvalid_0's auc: 0.887549\tvalid_0's binary_logloss: 0.499097\n",
            "[7]\tvalid_0's binary_error: 0.184358\tvalid_0's auc: 0.887747\tvalid_0's binary_logloss: 0.484584\n",
            "[8]\tvalid_0's binary_error: 0.184358\tvalid_0's auc: 0.88946\tvalid_0's binary_logloss: 0.471339\n",
            "[9]\tvalid_0's binary_error: 0.178771\tvalid_0's auc: 0.889196\tvalid_0's binary_logloss: 0.460733\n",
            "[10]\tvalid_0's binary_error: 0.184358\tvalid_0's auc: 0.892885\tvalid_0's binary_logloss: 0.451083\n",
            "[11]\tvalid_0's binary_error: 0.184358\tvalid_0's auc: 0.893676\tvalid_0's binary_logloss: 0.441152\n",
            "[12]\tvalid_0's binary_error: 0.184358\tvalid_0's auc: 0.893281\tvalid_0's binary_logloss: 0.433844\n",
            "[13]\tvalid_0's binary_error: 0.184358\tvalid_0's auc: 0.896047\tvalid_0's binary_logloss: 0.425755\n",
            "[14]\tvalid_0's binary_error: 0.184358\tvalid_0's auc: 0.897497\tvalid_0's binary_logloss: 0.420073\n",
            "[15]\tvalid_0's binary_error: 0.184358\tvalid_0's auc: 0.898551\tvalid_0's binary_logloss: 0.413683\n",
            "[16]\tvalid_0's binary_error: 0.184358\tvalid_0's auc: 0.900856\tvalid_0's binary_logloss: 0.409236\n",
            "[17]\tvalid_0's binary_error: 0.184358\tvalid_0's auc: 0.898221\tvalid_0's binary_logloss: 0.406757\n",
            "[18]\tvalid_0's binary_error: 0.178771\tvalid_0's auc: 0.899078\tvalid_0's binary_logloss: 0.402879\n",
            "[19]\tvalid_0's binary_error: 0.178771\tvalid_0's auc: 0.89776\tvalid_0's binary_logloss: 0.400736\n",
            "Early stopping, best iteration is:\n",
            "[9]\tvalid_0's binary_error: 0.178771\tvalid_0's auc: 0.889196\tvalid_0's binary_logloss: 0.460733\n"
          ],
          "name": "stdout"
        }
      ]
    },
    {
      "metadata": {
        "id": "g6a99dRlyWJb",
        "colab_type": "code",
        "colab": {
          "base_uri": "https://localhost:8080/",
          "height": 394
        },
        "outputId": "e6545ce7-d19a-4ab2-c2d5-5c6a4abbd8d3"
      },
      "cell_type": "code",
      "source": [
        "lgb.plot_importance(gbm)"
      ],
      "execution_count": 14,
      "outputs": [
        {
          "output_type": "execute_result",
          "data": {
            "text/plain": [
              "<matplotlib.axes._subplots.AxesSubplot at 0x7fe7eac91898>"
            ]
          },
          "metadata": {
            "tags": []
          },
          "execution_count": 14
        },
        {
          "output_type": "display_data",
          "data": {
            "image/png": "[encoded data removed]",
            "text/plain": [
              "<Figure size 576x396 with 1 Axes>"
            ]
          },
          "metadata": {
            "tags": []
          }
        }
      ]
    },
    {
      "metadata": {
        "id": "NpH7Mrcdyenc",
        "colab_type": "code",
        "colab": {}
      },
      "cell_type": "code",
      "source": [
        "y_pred = gbm.predict(cleaned_test_df.values, num_iteration=gbm.best_iteration)"
      ],
      "execution_count": 0,
      "outputs": []
    },
    {
      "metadata": {
        "id": "1fbsNjVl0H_M",
        "colab_type": "code",
        "colab": {}
      },
      "cell_type": "code",
      "source": [
        "sub = pd.DataFrame({'PassengerId':test_df['PassengerId'],'Survived':y_pred})"
      ],
      "execution_count": 0,
      "outputs": []
    },
    {
      "metadata": {
        "id": "KP8pkWo70Kp0",
        "colab_type": "code",
        "colab": {
          "base_uri": "https://localhost:8080/",
          "height": 195
        },
        "outputId": "9c260c92-65f7-4e2e-e0a4-c4f8661943a3"
      },
      "cell_type": "code",
      "source": [
        "sub\n",
        "sub.to_csv('polar_bear.csv', index = False, float_format='%1d')\n",
        "sub.head()"
      ],
      "execution_count": 19,
      "outputs": [
        {
          "output_type": "execute_result",
          "data": {
            "text/html": [
              "<div>\n",
              "<style scoped>\n",
              "    .dataframe tbody tr th:only-of-type {\n",
              "        vertical-align: middle;\n",
              "    }\n",
              "\n",
              "    .dataframe tbody tr th {\n",
              "        vertical-align: top;\n",
              "    }\n",
              "\n",
              "    .dataframe thead th {\n",
              "        text-align: right;\n",
              "    }\n",
              "</style>\n",
              "<table border=\"1\" class=\"dataframe\">\n",
              "  <thead>\n",
              "    <tr style=\"text-align: right;\">\n",
              "      <th></th>\n",
              "      <th>PassengerId</th>\n",
              "      <th>Survived</th>\n",
              "    </tr>\n",
              "  </thead>\n",
              "  <tbody>\n",
              "    <tr>\n",
              "      <th>0</th>\n",
              "      <td>892</td>\n",
              "      <td>0.183579</td>\n",
              "    </tr>\n",
              "    <tr>\n",
              "      <th>1</th>\n",
              "      <td>893</td>\n",
              "      <td>0.436494</td>\n",
              "    </tr>\n",
              "    <tr>\n",
              "      <th>2</th>\n",
              "      <td>894</td>\n",
              "      <td>0.204961</td>\n",
              "    </tr>\n",
              "    <tr>\n",
              "      <th>3</th>\n",
              "      <td>895</td>\n",
              "      <td>0.266651</td>\n",
              "    </tr>\n",
              "    <tr>\n",
              "      <th>4</th>\n",
              "      <td>896</td>\n",
              "      <td>0.511526</td>\n",
              "    </tr>\n",
              "  </tbody>\n",
              "</table>\n",
              "</div>"
            ],
            "text/plain": [
              "   PassengerId  Survived\n",
              "0          892  0.183579\n",
              "1          893  0.436494\n",
              "2          894  0.204961\n",
              "3          895  0.266651\n",
              "4          896  0.511526"
            ]
          },
          "metadata": {
            "tags": []
          },
          "execution_count": 19
        }
      ]
    },
    {
      "metadata": {
        "id": "l2zbTVyp0L3M",
        "colab_type": "code",
        "colab": {}
      },
      "cell_type": "code",
      "source": [
        ""
      ],
      "execution_count": 0,
      "outputs": []
    }
  ]
}
